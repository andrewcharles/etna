{
  "cells": [
    {
      "cell_type": "markdown",
      "source": [
        "ETNA"
      ],
      "metadata": {
        "id": "O_M42UZi6IDf"
      }
    },
    {
      "cell_type": "code",
      "execution_count": null,
      "metadata": {
        "id": "eVbjYuwJ6kwD"
      },
      "outputs": [],
      "source": [
        "%%capture\n",
        "!pip install geemap"
      ]
    },
    {
      "cell_type": "code",
      "execution_count": null,
      "metadata": {
        "id": "x91dsWqJ6zfO"
      },
      "outputs": [],
      "source": [
        "import geemap"
      ]
    }
  ],
  "metadata": {
    "colab": {
      "provenance": []
    },
    "kernelspec": {
      "display_name": "Python 3",
      "name": "python3"
    },
    "language_info": {
      "name": "python"
    }
  },
  "nbformat": 4,
  "nbformat_minor": 0
}